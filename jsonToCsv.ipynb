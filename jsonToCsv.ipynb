{
 "cells": [
  {
   "cell_type": "code",
   "execution_count": 13,
   "metadata": {},
   "outputs": [
    {
     "name": "stdout",
     "output_type": "stream",
     "text": [
      "1\n",
      "2\n",
      "3\n",
      "4\n",
      "5\n",
      "6\n",
      "7\n",
      "8\n"
     ]
    }
   ],
   "source": [
    "lenth=8\n",
    "for i in range(1,lenth+1):\n",
    "    print(i)"
   ]
  },
  {
   "cell_type": "code",
   "execution_count": 14,
   "metadata": {},
   "outputs": [],
   "source": [
    "# import json\n",
    "# import time\n",
    "# with open('D:\\\\projects\\\\wechatSaveArticles\\\\wechat_spider_data.json',encoding='utf-8') as file:\n",
    "#     datafile=json.load(file)"
   ]
  },
  {
   "cell_type": "code",
   "execution_count": 15,
   "metadata": {},
   "outputs": [],
   "source": [
    "# datafile[0]"
   ]
  },
  {
   "cell_type": "code",
   "execution_count": 16,
   "metadata": {},
   "outputs": [],
   "source": [
    "# import pandas as pd\n",
    "# df=pd.read_json('D:\\\\projects\\\\wechatSaveArticles\\\\wechat_spider_data.json')\n",
    "# df"
   ]
  },
  {
   "cell_type": "code",
   "execution_count": 17,
   "metadata": {},
   "outputs": [],
   "source": [
    "# df['app_msg_list'].apply(pd.Series)"
   ]
  },
  {
   "cell_type": "code",
   "execution_count": 18,
   "metadata": {},
   "outputs": [],
   "source": [
    "# # def test2():\n",
    "# with open('D:\\\\projects\\\\wechatSaveArticles\\\\backup\\\\wechat_spider_data.json',encoding='utf-8') as f:\n",
    "#     superHeroSquad = json.load(f)\n",
    "# superHeroSquad[0]['app_msg_list'][0]['aid']\n",
    "# i=0\n",
    "# j=0\n",
    "# # len(superHeroSquad[0]['app_msg_list'])\n",
    "# # superHeroSquad[i]['app_msg_list'][j]['create_time']\n",
    "# # dfend=pd.DataFrame()\n",
    "# L=[]\n",
    "# for i in range(len(superHeroSquad)):\n",
    "    \n",
    "#     for j in range(len(superHeroSquad[i]['app_msg_list'])):\n",
    "#         # print(j)\n",
    "#         arti_create_time = time.strftime(\"%Y-%m-%d %H:%M:%S\",time.localtime(superHeroSquad[i]['app_msg_list'][j]['create_time']))\n",
    "#         arti_info = '\"{}\",\"{}\",\"{}\",\"{}\"'.format(str(superHeroSquad[i]['app_msg_list'][j][\"aid\"]), str(arti_create_time), superHeroSquad[i]['app_msg_list'][j]['link'], superHeroSquad[i]['app_msg_list'][j]['title'])\n",
    "#         L.append(arti_info)\n",
    "# dfend=pd.DataFrame(L,columns=['string']) \n",
    "# # dfend       \n",
    "# dfend.to_csv('D:\\\\projects\\\\wechatSaveArticles\\\\end.csv',encoding='utf-8',index=False)\n",
    "#         # with open(\"app_msg_list.csv\", \"a\", encoding='utf-8-sig') as f:\n",
    "#         #     f.write(arti_info+'\\n') \n",
    "#         # print(arti_info)\n",
    "# # out = pd.json_normalize(superHeroSquad, ['app_msg_list'][0],\n",
    "# #                     meta=[\"aid\",'album_id','appmsg_album_infos','appmsgid','checking','copyright_type','cover','create_time'\n",
    "# #                     ,'digest','has_red_packet_cover','is_pay_subscribe','item_show_type','itemidx','link','media_duration','mediaapi_publish_status',\n",
    "# #                     'pay_album_info','appmsg_album_infos','tagid','title','update_time'])\n",
    "# # print(out)"
   ]
  },
  {
   "cell_type": "code",
   "execution_count": null,
   "metadata": {},
   "outputs": [],
   "source": []
  },
  {
   "cell_type": "code",
   "execution_count": 19,
   "metadata": {},
   "outputs": [],
   "source": [
    "# for item in datafile['app_msg_list']:    \n",
    "#     print(item)\n",
    "#     arti_create_time = time.strftime(\"%Y-%m-%d %H:%M:%S\", time.localtime(item['create_time']))\n",
    "#     arti_info = '\"{}\",\"{}\",\"{}\",\"{}\"'.format(str(item[\"aid\"]), str(arti_create_time), item['link'], item['title'])\n",
    "#     with open(\"app_msg_list.csv\", \"a\", encoding='utf-8-sig') as f:\n",
    "#         f.write(arti_info+'\\n') "
   ]
  },
  {
   "cell_type": "code",
   "execution_count": null,
   "metadata": {},
   "outputs": [],
   "source": []
  },
  {
   "cell_type": "code",
   "execution_count": 20,
   "metadata": {},
   "outputs": [],
   "source": [
    "import pandas as pd"
   ]
  },
  {
   "cell_type": "markdown",
   "metadata": {},
   "source": [
    "## readcsv"
   ]
  },
  {
   "cell_type": "code",
   "execution_count": 21,
   "metadata": {},
   "outputs": [
    {
     "data": {
      "text/html": [
       "<div>\n",
       "<style scoped>\n",
       "    .dataframe tbody tr th:only-of-type {\n",
       "        vertical-align: middle;\n",
       "    }\n",
       "\n",
       "    .dataframe tbody tr th {\n",
       "        vertical-align: top;\n",
       "    }\n",
       "\n",
       "    .dataframe thead th {\n",
       "        text-align: right;\n",
       "    }\n",
       "</style>\n",
       "<table border=\"1\" class=\"dataframe\">\n",
       "  <thead>\n",
       "    <tr style=\"text-align: right;\">\n",
       "      <th></th>\n",
       "      <th>string</th>\n",
       "    </tr>\n",
       "  </thead>\n",
       "  <tbody>\n",
       "    <tr>\n",
       "      <th>0</th>\n",
       "      <td>\"2649599673_1\",\"2022-05-29 17:09:31\",\"http://m...</td>\n",
       "    </tr>\n",
       "    <tr>\n",
       "      <th>1</th>\n",
       "      <td>\"2649599658_1\",\"2022-05-25 15:41:18\",\"http://m...</td>\n",
       "    </tr>\n",
       "    <tr>\n",
       "      <th>2</th>\n",
       "      <td>\"2649599588_1\",\"2022-05-22 20:11:05\",\"http://m...</td>\n",
       "    </tr>\n",
       "    <tr>\n",
       "      <th>3</th>\n",
       "      <td>\"2649599548_1\",\"2022-05-05 21:11:35\",\"http://m...</td>\n",
       "    </tr>\n",
       "    <tr>\n",
       "      <th>4</th>\n",
       "      <td>\"2649599532_1\",\"2022-05-04 23:11:10\",\"http://m...</td>\n",
       "    </tr>\n",
       "    <tr>\n",
       "      <th>...</th>\n",
       "      <td>...</td>\n",
       "    </tr>\n",
       "    <tr>\n",
       "      <th>1058</th>\n",
       "      <td>\"200077001_1\",\"2014-03-04 23:10:33\",\"http://mp...</td>\n",
       "    </tr>\n",
       "    <tr>\n",
       "      <th>1059</th>\n",
       "      <td>\"200074518_1\",\"2014-03-03 23:57:52\",\"http://mp...</td>\n",
       "    </tr>\n",
       "    <tr>\n",
       "      <th>1060</th>\n",
       "      <td>\"200070704_1\",\"2014-03-02 00:24:22\",\"http://mp...</td>\n",
       "    </tr>\n",
       "    <tr>\n",
       "      <th>1061</th>\n",
       "      <td>\"200068497_1\",\"2014-02-28 23:55:34\",\"http://mp...</td>\n",
       "    </tr>\n",
       "    <tr>\n",
       "      <th>1062</th>\n",
       "      <td>\"200065874_1\",\"2014-02-27 23:46:43\",\"http://mp...</td>\n",
       "    </tr>\n",
       "  </tbody>\n",
       "</table>\n",
       "<p>1063 rows × 1 columns</p>\n",
       "</div>"
      ],
      "text/plain": [
       "                                                 string\n",
       "0     \"2649599673_1\",\"2022-05-29 17:09:31\",\"http://m...\n",
       "1     \"2649599658_1\",\"2022-05-25 15:41:18\",\"http://m...\n",
       "2     \"2649599588_1\",\"2022-05-22 20:11:05\",\"http://m...\n",
       "3     \"2649599548_1\",\"2022-05-05 21:11:35\",\"http://m...\n",
       "4     \"2649599532_1\",\"2022-05-04 23:11:10\",\"http://m...\n",
       "...                                                 ...\n",
       "1058  \"200077001_1\",\"2014-03-04 23:10:33\",\"http://mp...\n",
       "1059  \"200074518_1\",\"2014-03-03 23:57:52\",\"http://mp...\n",
       "1060  \"200070704_1\",\"2014-03-02 00:24:22\",\"http://mp...\n",
       "1061  \"200068497_1\",\"2014-02-28 23:55:34\",\"http://mp...\n",
       "1062  \"200065874_1\",\"2014-02-27 23:46:43\",\"http://mp...\n",
       "\n",
       "[1063 rows x 1 columns]"
      ]
     },
     "execution_count": 21,
     "metadata": {},
     "output_type": "execute_result"
    }
   ],
   "source": [
    "result=pd.read_csv('D:\\\\projects\\\\wechatSaveArticles\\\\end.csv',encoding='utf-8')\n",
    "result"
   ]
  },
  {
   "cell_type": "code",
   "execution_count": 22,
   "metadata": {},
   "outputs": [
    {
     "data": {
      "text/html": [
       "<div>\n",
       "<style scoped>\n",
       "    .dataframe tbody tr th:only-of-type {\n",
       "        vertical-align: middle;\n",
       "    }\n",
       "\n",
       "    .dataframe tbody tr th {\n",
       "        vertical-align: top;\n",
       "    }\n",
       "\n",
       "    .dataframe thead th {\n",
       "        text-align: right;\n",
       "    }\n",
       "</style>\n",
       "<table border=\"1\" class=\"dataframe\">\n",
       "  <thead>\n",
       "    <tr style=\"text-align: right;\">\n",
       "      <th></th>\n",
       "      <th>aid</th>\n",
       "      <th>time</th>\n",
       "      <th>url</th>\n",
       "      <th>title</th>\n",
       "      <th>none</th>\n",
       "    </tr>\n",
       "  </thead>\n",
       "  <tbody>\n",
       "    <tr>\n",
       "      <th>0</th>\n",
       "      <td>\"2649599673_1\"</td>\n",
       "      <td>\"2022-05-29 17:09:31\"</td>\n",
       "      <td>\"http://mp.weixin.qq.com/s?__biz=MzA5MzM1MTQzN...</td>\n",
       "      <td>\"如日方升，锦绣前程\"</td>\n",
       "      <td>None</td>\n",
       "    </tr>\n",
       "    <tr>\n",
       "      <th>1</th>\n",
       "      <td>\"2649599658_1\"</td>\n",
       "      <td>\"2022-05-25 15:41:18\"</td>\n",
       "      <td>\"http://mp.weixin.qq.com/s?__biz=MzA5MzM1MTQzN...</td>\n",
       "      <td>\"温暖送行，管科师生义务帮助毕业生搬行李\"</td>\n",
       "      <td>None</td>\n",
       "    </tr>\n",
       "    <tr>\n",
       "      <th>2</th>\n",
       "      <td>\"2649599588_1\"</td>\n",
       "      <td>\"2022-05-22 20:11:05\"</td>\n",
       "      <td>\"http://mp.weixin.qq.com/s?__biz=MzA5MzM1MTQzN...</td>\n",
       "      <td>\"【思政课】弘扬两会精神，指引就业道路\"</td>\n",
       "      <td>None</td>\n",
       "    </tr>\n",
       "    <tr>\n",
       "      <th>3</th>\n",
       "      <td>\"2649599548_1\"</td>\n",
       "      <td>\"2022-05-05 21:11:35\"</td>\n",
       "      <td>\"http://mp.weixin.qq.com/s?__biz=MzA5MzM1MTQzN...</td>\n",
       "      <td>\"传五四精神，扬青春风采\"</td>\n",
       "      <td>None</td>\n",
       "    </tr>\n",
       "    <tr>\n",
       "      <th>4</th>\n",
       "      <td>\"2649599532_1\"</td>\n",
       "      <td>\"2022-05-04 23:11:10\"</td>\n",
       "      <td>\"http://mp.weixin.qq.com/s?__biz=MzA5MzM1MTQzN...</td>\n",
       "      <td>\"【管科男排】欢庆五一，友谊排球\"</td>\n",
       "      <td>None</td>\n",
       "    </tr>\n",
       "    <tr>\n",
       "      <th>...</th>\n",
       "      <td>...</td>\n",
       "      <td>...</td>\n",
       "      <td>...</td>\n",
       "      <td>...</td>\n",
       "      <td>...</td>\n",
       "    </tr>\n",
       "    <tr>\n",
       "      <th>1058</th>\n",
       "      <td>\"200077001_1\"</td>\n",
       "      <td>\"2014-03-04 23:10:33\"</td>\n",
       "      <td>\"http://mp.weixin.qq.com/mp/appmsg/show?__biz=...</td>\n",
       "      <td>\"计算机活动月~还是计算机活动月~⊙﹏⊙~\"</td>\n",
       "      <td>None</td>\n",
       "    </tr>\n",
       "    <tr>\n",
       "      <th>1059</th>\n",
       "      <td>\"200074518_1\"</td>\n",
       "      <td>\"2014-03-03 23:57:52\"</td>\n",
       "      <td>\"http://mp.weixin.qq.com/mp/appmsg/show?__biz=...</td>\n",
       "      <td>\"计算机活动月——愿你我携手！\"</td>\n",
       "      <td>None</td>\n",
       "    </tr>\n",
       "    <tr>\n",
       "      <th>1060</th>\n",
       "      <td>\"200070704_1\"</td>\n",
       "      <td>\"2014-03-02 00:24:22\"</td>\n",
       "      <td>\"http://mp.weixin.qq.com/mp/appmsg/show?__biz=...</td>\n",
       "      <td>\"计算机活动月——福利第二弹\"</td>\n",
       "      <td>None</td>\n",
       "    </tr>\n",
       "    <tr>\n",
       "      <th>1061</th>\n",
       "      <td>\"200068497_1\"</td>\n",
       "      <td>\"2014-02-28 23:55:34\"</td>\n",
       "      <td>\"http://mp.weixin.qq.com/mp/appmsg/show?__biz=...</td>\n",
       "      <td>\"属于东财学生的福利——计算机活动月\"</td>\n",
       "      <td>None</td>\n",
       "    </tr>\n",
       "    <tr>\n",
       "      <th>1062</th>\n",
       "      <td>\"200065874_1\"</td>\n",
       "      <td>\"2014-02-27 23:46:43\"</td>\n",
       "      <td>\"http://mp.weixin.qq.com/s?__biz=MzA5MzM1MTQzN...</td>\n",
       "      <td>\"欢迎关注管科学生会\"</td>\n",
       "      <td>None</td>\n",
       "    </tr>\n",
       "  </tbody>\n",
       "</table>\n",
       "<p>1063 rows × 5 columns</p>\n",
       "</div>"
      ],
      "text/plain": [
       "                 aid                   time  \\\n",
       "0     \"2649599673_1\"  \"2022-05-29 17:09:31\"   \n",
       "1     \"2649599658_1\"  \"2022-05-25 15:41:18\"   \n",
       "2     \"2649599588_1\"  \"2022-05-22 20:11:05\"   \n",
       "3     \"2649599548_1\"  \"2022-05-05 21:11:35\"   \n",
       "4     \"2649599532_1\"  \"2022-05-04 23:11:10\"   \n",
       "...              ...                    ...   \n",
       "1058   \"200077001_1\"  \"2014-03-04 23:10:33\"   \n",
       "1059   \"200074518_1\"  \"2014-03-03 23:57:52\"   \n",
       "1060   \"200070704_1\"  \"2014-03-02 00:24:22\"   \n",
       "1061   \"200068497_1\"  \"2014-02-28 23:55:34\"   \n",
       "1062   \"200065874_1\"  \"2014-02-27 23:46:43\"   \n",
       "\n",
       "                                                    url  \\\n",
       "0     \"http://mp.weixin.qq.com/s?__biz=MzA5MzM1MTQzN...   \n",
       "1     \"http://mp.weixin.qq.com/s?__biz=MzA5MzM1MTQzN...   \n",
       "2     \"http://mp.weixin.qq.com/s?__biz=MzA5MzM1MTQzN...   \n",
       "3     \"http://mp.weixin.qq.com/s?__biz=MzA5MzM1MTQzN...   \n",
       "4     \"http://mp.weixin.qq.com/s?__biz=MzA5MzM1MTQzN...   \n",
       "...                                                 ...   \n",
       "1058  \"http://mp.weixin.qq.com/mp/appmsg/show?__biz=...   \n",
       "1059  \"http://mp.weixin.qq.com/mp/appmsg/show?__biz=...   \n",
       "1060  \"http://mp.weixin.qq.com/mp/appmsg/show?__biz=...   \n",
       "1061  \"http://mp.weixin.qq.com/mp/appmsg/show?__biz=...   \n",
       "1062  \"http://mp.weixin.qq.com/s?__biz=MzA5MzM1MTQzN...   \n",
       "\n",
       "                       title  none  \n",
       "0                \"如日方升，锦绣前程\"  None  \n",
       "1      \"温暖送行，管科师生义务帮助毕业生搬行李\"  None  \n",
       "2       \"【思政课】弘扬两会精神，指引就业道路\"  None  \n",
       "3              \"传五四精神，扬青春风采\"  None  \n",
       "4          \"【管科男排】欢庆五一，友谊排球\"  None  \n",
       "...                      ...   ...  \n",
       "1058  \"计算机活动月~还是计算机活动月~⊙﹏⊙~\"  None  \n",
       "1059        \"计算机活动月——愿你我携手！\"  None  \n",
       "1060         \"计算机活动月——福利第二弹\"  None  \n",
       "1061     \"属于东财学生的福利——计算机活动月\"  None  \n",
       "1062             \"欢迎关注管科学生会\"  None  \n",
       "\n",
       "[1063 rows x 5 columns]"
      ]
     },
     "execution_count": 22,
     "metadata": {},
     "output_type": "execute_result"
    }
   ],
   "source": [
    "df0=result['string'].str.split(',',expand=True)\n",
    "df0.columns=['aid','time','url','title','none']\n",
    "df0"
   ]
  },
  {
   "cell_type": "code",
   "execution_count": 23,
   "metadata": {},
   "outputs": [
    {
     "data": {
      "text/plain": [
       "0       None\n",
       "1       None\n",
       "2       None\n",
       "3       None\n",
       "4       None\n",
       "        ... \n",
       "1058    None\n",
       "1059    None\n",
       "1060    None\n",
       "1061    None\n",
       "1062    None\n",
       "Name: none, Length: 1063, dtype: object"
      ]
     },
     "execution_count": 23,
     "metadata": {},
     "output_type": "execute_result"
    }
   ],
   "source": [
    "df0['none']"
   ]
  },
  {
   "cell_type": "code",
   "execution_count": 24,
   "metadata": {},
   "outputs": [
    {
     "data": {
      "text/html": [
       "<div>\n",
       "<style scoped>\n",
       "    .dataframe tbody tr th:only-of-type {\n",
       "        vertical-align: middle;\n",
       "    }\n",
       "\n",
       "    .dataframe tbody tr th {\n",
       "        vertical-align: top;\n",
       "    }\n",
       "\n",
       "    .dataframe thead th {\n",
       "        text-align: right;\n",
       "    }\n",
       "</style>\n",
       "<table border=\"1\" class=\"dataframe\">\n",
       "  <thead>\n",
       "    <tr style=\"text-align: right;\">\n",
       "      <th></th>\n",
       "      <th>aid</th>\n",
       "      <th>time</th>\n",
       "      <th>url</th>\n",
       "      <th>title</th>\n",
       "    </tr>\n",
       "  </thead>\n",
       "  <tbody>\n",
       "    <tr>\n",
       "      <th>0</th>\n",
       "      <td>\"2649599673_1\"</td>\n",
       "      <td>\"2022-05-29 17:09:31\"</td>\n",
       "      <td>\"http://mp.weixin.qq.com/s?__biz=MzA5MzM1MTQzN...</td>\n",
       "      <td>\"如日方升，锦绣前程\"</td>\n",
       "    </tr>\n",
       "    <tr>\n",
       "      <th>1</th>\n",
       "      <td>\"2649599658_1\"</td>\n",
       "      <td>\"2022-05-25 15:41:18\"</td>\n",
       "      <td>\"http://mp.weixin.qq.com/s?__biz=MzA5MzM1MTQzN...</td>\n",
       "      <td>\"温暖送行，管科师生义务帮助毕业生搬行李\"</td>\n",
       "    </tr>\n",
       "    <tr>\n",
       "      <th>2</th>\n",
       "      <td>\"2649599588_1\"</td>\n",
       "      <td>\"2022-05-22 20:11:05\"</td>\n",
       "      <td>\"http://mp.weixin.qq.com/s?__biz=MzA5MzM1MTQzN...</td>\n",
       "      <td>\"【思政课】弘扬两会精神，指引就业道路\"</td>\n",
       "    </tr>\n",
       "    <tr>\n",
       "      <th>3</th>\n",
       "      <td>\"2649599548_1\"</td>\n",
       "      <td>\"2022-05-05 21:11:35\"</td>\n",
       "      <td>\"http://mp.weixin.qq.com/s?__biz=MzA5MzM1MTQzN...</td>\n",
       "      <td>\"传五四精神，扬青春风采\"</td>\n",
       "    </tr>\n",
       "    <tr>\n",
       "      <th>4</th>\n",
       "      <td>\"2649599532_1\"</td>\n",
       "      <td>\"2022-05-04 23:11:10\"</td>\n",
       "      <td>\"http://mp.weixin.qq.com/s?__biz=MzA5MzM1MTQzN...</td>\n",
       "      <td>\"【管科男排】欢庆五一，友谊排球\"</td>\n",
       "    </tr>\n",
       "    <tr>\n",
       "      <th>...</th>\n",
       "      <td>...</td>\n",
       "      <td>...</td>\n",
       "      <td>...</td>\n",
       "      <td>...</td>\n",
       "    </tr>\n",
       "    <tr>\n",
       "      <th>1058</th>\n",
       "      <td>\"200077001_1\"</td>\n",
       "      <td>\"2014-03-04 23:10:33\"</td>\n",
       "      <td>\"http://mp.weixin.qq.com/mp/appmsg/show?__biz=...</td>\n",
       "      <td>\"计算机活动月~还是计算机活动月~⊙﹏⊙~\"</td>\n",
       "    </tr>\n",
       "    <tr>\n",
       "      <th>1059</th>\n",
       "      <td>\"200074518_1\"</td>\n",
       "      <td>\"2014-03-03 23:57:52\"</td>\n",
       "      <td>\"http://mp.weixin.qq.com/mp/appmsg/show?__biz=...</td>\n",
       "      <td>\"计算机活动月——愿你我携手！\"</td>\n",
       "    </tr>\n",
       "    <tr>\n",
       "      <th>1060</th>\n",
       "      <td>\"200070704_1\"</td>\n",
       "      <td>\"2014-03-02 00:24:22\"</td>\n",
       "      <td>\"http://mp.weixin.qq.com/mp/appmsg/show?__biz=...</td>\n",
       "      <td>\"计算机活动月——福利第二弹\"</td>\n",
       "    </tr>\n",
       "    <tr>\n",
       "      <th>1061</th>\n",
       "      <td>\"200068497_1\"</td>\n",
       "      <td>\"2014-02-28 23:55:34\"</td>\n",
       "      <td>\"http://mp.weixin.qq.com/mp/appmsg/show?__biz=...</td>\n",
       "      <td>\"属于东财学生的福利——计算机活动月\"</td>\n",
       "    </tr>\n",
       "    <tr>\n",
       "      <th>1062</th>\n",
       "      <td>\"200065874_1\"</td>\n",
       "      <td>\"2014-02-27 23:46:43\"</td>\n",
       "      <td>\"http://mp.weixin.qq.com/s?__biz=MzA5MzM1MTQzN...</td>\n",
       "      <td>\"欢迎关注管科学生会\"</td>\n",
       "    </tr>\n",
       "  </tbody>\n",
       "</table>\n",
       "<p>1063 rows × 4 columns</p>\n",
       "</div>"
      ],
      "text/plain": [
       "                 aid                   time  \\\n",
       "0     \"2649599673_1\"  \"2022-05-29 17:09:31\"   \n",
       "1     \"2649599658_1\"  \"2022-05-25 15:41:18\"   \n",
       "2     \"2649599588_1\"  \"2022-05-22 20:11:05\"   \n",
       "3     \"2649599548_1\"  \"2022-05-05 21:11:35\"   \n",
       "4     \"2649599532_1\"  \"2022-05-04 23:11:10\"   \n",
       "...              ...                    ...   \n",
       "1058   \"200077001_1\"  \"2014-03-04 23:10:33\"   \n",
       "1059   \"200074518_1\"  \"2014-03-03 23:57:52\"   \n",
       "1060   \"200070704_1\"  \"2014-03-02 00:24:22\"   \n",
       "1061   \"200068497_1\"  \"2014-02-28 23:55:34\"   \n",
       "1062   \"200065874_1\"  \"2014-02-27 23:46:43\"   \n",
       "\n",
       "                                                    url  \\\n",
       "0     \"http://mp.weixin.qq.com/s?__biz=MzA5MzM1MTQzN...   \n",
       "1     \"http://mp.weixin.qq.com/s?__biz=MzA5MzM1MTQzN...   \n",
       "2     \"http://mp.weixin.qq.com/s?__biz=MzA5MzM1MTQzN...   \n",
       "3     \"http://mp.weixin.qq.com/s?__biz=MzA5MzM1MTQzN...   \n",
       "4     \"http://mp.weixin.qq.com/s?__biz=MzA5MzM1MTQzN...   \n",
       "...                                                 ...   \n",
       "1058  \"http://mp.weixin.qq.com/mp/appmsg/show?__biz=...   \n",
       "1059  \"http://mp.weixin.qq.com/mp/appmsg/show?__biz=...   \n",
       "1060  \"http://mp.weixin.qq.com/mp/appmsg/show?__biz=...   \n",
       "1061  \"http://mp.weixin.qq.com/mp/appmsg/show?__biz=...   \n",
       "1062  \"http://mp.weixin.qq.com/s?__biz=MzA5MzM1MTQzN...   \n",
       "\n",
       "                       title  \n",
       "0                \"如日方升，锦绣前程\"  \n",
       "1      \"温暖送行，管科师生义务帮助毕业生搬行李\"  \n",
       "2       \"【思政课】弘扬两会精神，指引就业道路\"  \n",
       "3              \"传五四精神，扬青春风采\"  \n",
       "4          \"【管科男排】欢庆五一，友谊排球\"  \n",
       "...                      ...  \n",
       "1058  \"计算机活动月~还是计算机活动月~⊙﹏⊙~\"  \n",
       "1059        \"计算机活动月——愿你我携手！\"  \n",
       "1060         \"计算机活动月——福利第二弹\"  \n",
       "1061     \"属于东财学生的福利——计算机活动月\"  \n",
       "1062             \"欢迎关注管科学生会\"  \n",
       "\n",
       "[1063 rows x 4 columns]"
      ]
     },
     "execution_count": 24,
     "metadata": {},
     "output_type": "execute_result"
    }
   ],
   "source": [
    "df0=df0.drop(columns='none')\n",
    "df0"
   ]
  },
  {
   "cell_type": "code",
   "execution_count": null,
   "metadata": {},
   "outputs": [],
   "source": []
  },
  {
   "cell_type": "code",
   "execution_count": 35,
   "metadata": {},
   "outputs": [
    {
     "data": {
      "text/plain": [
       "0        http://mp.weixin.qq.com/s?__biz=MzA5MzM1MTQzN...\n",
       "1        http://mp.weixin.qq.com/s?__biz=MzA5MzM1MTQzN...\n",
       "2        http://mp.weixin.qq.com/s?__biz=MzA5MzM1MTQzN...\n",
       "3        http://mp.weixin.qq.com/s?__biz=MzA5MzM1MTQzN...\n",
       "4        http://mp.weixin.qq.com/s?__biz=MzA5MzM1MTQzN...\n",
       "                              ...                        \n",
       "1058     http://mp.weixin.qq.com/mp/appmsg/show?__biz=...\n",
       "1059     http://mp.weixin.qq.com/mp/appmsg/show?__biz=...\n",
       "1060     http://mp.weixin.qq.com/mp/appmsg/show?__biz=...\n",
       "1061     http://mp.weixin.qq.com/mp/appmsg/show?__biz=...\n",
       "1062     http://mp.weixin.qq.com/s?__biz=MzA5MzM1MTQzN...\n",
       "Name: url, Length: 1063, dtype: object"
      ]
     },
     "execution_count": 35,
     "metadata": {},
     "output_type": "execute_result"
    }
   ],
   "source": [
    "df0['url'].str.replace('\"',' ')"
   ]
  },
  {
   "cell_type": "code",
   "execution_count": 34,
   "metadata": {},
   "outputs": [
    {
     "data": {
      "text/plain": [
       "0       \"http://mp.weixin.qq.com/s?__biz=MzA5MzM1MTQzN...\n",
       "1       \"http://mp.weixin.qq.com/s?__biz=MzA5MzM1MTQzN...\n",
       "2       \"http://mp.weixin.qq.com/s?__biz=MzA5MzM1MTQzN...\n",
       "3       \"http://mp.weixin.qq.com/s?__biz=MzA5MzM1MTQzN...\n",
       "4       \"http://mp.weixin.qq.com/s?__biz=MzA5MzM1MTQzN...\n",
       "                              ...                        \n",
       "1058    \"http://mp.weixin.qq.com/mp/appmsg/show?__biz=...\n",
       "1059    \"http://mp.weixin.qq.com/mp/appmsg/show?__biz=...\n",
       "1060    \"http://mp.weixin.qq.com/mp/appmsg/show?__biz=...\n",
       "1061    \"http://mp.weixin.qq.com/mp/appmsg/show?__biz=...\n",
       "1062    \"http://mp.weixin.qq.com/s?__biz=MzA5MzM1MTQzN...\n",
       "Name: url, Length: 1063, dtype: object"
      ]
     },
     "execution_count": 34,
     "metadata": {},
     "output_type": "execute_result"
    }
   ],
   "source": [
    "df0['url']"
   ]
  },
  {
   "cell_type": "code",
   "execution_count": 26,
   "metadata": {},
   "outputs": [
    {
     "data": {
      "text/plain": [
       "1063"
      ]
     },
     "execution_count": 26,
     "metadata": {},
     "output_type": "execute_result"
    }
   ],
   "source": [
    "len(df0)"
   ]
  },
  {
   "cell_type": "code",
   "execution_count": 27,
   "metadata": {},
   "outputs": [],
   "source": [
    "import pdfkit\n",
    "import datetime\n",
    "import wechatsogou\n",
    "import re\n",
    "import time\n",
    "ws_api = wechatsogou.WechatSogouAPI(captcha_break_time=3) \n",
    "\n",
    "def url2pdf(url, title,create_time):\n",
    "    '''\n",
    "    使用pdfkit生成pdf文件\n",
    "    :param url: 文章url\n",
    "    :param title: 文章标题\n",
    "    :param targetPath: 存储pdf文件的路径\n",
    "    '''\n",
    "    \n",
    "    try:\n",
    "        content_info = ws_api.get_article_content(url)\n",
    "        path_wkthmltopdf = r'D:\\\\plugin\\\\wkhtmltopdf\\\\bin\\\\wkhtmltopdf.exe'    \n",
    "        config = pdfkit.configuration(wkhtmltopdf=path_wkthmltopdf) \n",
    "        \n",
    "    except:\n",
    "        return False\n",
    "        \n",
    "    # 处理后的html\n",
    "    html = f'''\n",
    "    <!DOCTYPE html>\n",
    "    <html lang=\"en\">\n",
    "    <head>\n",
    "        <meta charset=\"UTF-8\">\n",
    "        <title>{title}</title>\n",
    "    </head>\n",
    "    <body>\n",
    "    <h2 style=\"text-align: center;font-weight: 400;\">{title}</h2>\n",
    "    {content_info['content_html']}\n",
    "    </body>\n",
    "    </html>\n",
    "    '''\n",
    "    \n",
    "\n",
    "\n",
    "\n",
    "\n",
    "\n",
    "    # s = \"123,abc .?/&？》^_^dddA。\"\n",
    "    # 把所有编码非\\u0030-\\u0039(数字)、\\u0041-\\u007a(英文字母)的字符替换为空字符串\n",
    "    # rs = re.sub(\"([^\\u0030-\\u0039\\u0041-\\u007a])\", '', s)\n",
    "    # print(rs) # \"123abcdddA\"\n",
    "\n",
    "    create_time1=re.sub(\"([^\\u0030-\\u0039\\u0041-\\u007a])\", '', create_time)\n",
    "    titleAll=title+create_time1+'.pdf'\n",
    "    pdfkit.from_string(html, 'D:/projects/wechatSaveArticles/output/'+titleAll, configuration=config)\n",
    "\n",
    "\n",
    "# url2pdf(\"http://mp.weixin.qq.com/s?__biz=MzA5MzM1MTQzNA==&mid=2649599673&idx=1&sn=a400e16463302504c307e41d452efbda&chksm=884635dcbf31bcca190a66ffbdb822cf78a219e6b4b834d4d7b6e6c867d9d9e65f7721ef15e5#rd\",\n",
    "# \"如日方升，锦绣前程\")\n"
   ]
  },
  {
   "cell_type": "code",
   "execution_count": 28,
   "metadata": {},
   "outputs": [
    {
     "data": {
      "text/plain": [
       "'\"http://mp.weixin.qq.com/s?__biz=MzA5MzM1MTQzNA==&mid=2649599673&idx=1&sn=a400e16463302504c307e41d452efbda&chksm=884635dcbf31bcca190a66ffbdb822cf78a219e6b4b834d4d7b6e6c867d9d9e65f7721ef15e5#rd\"'"
      ]
     },
     "execution_count": 28,
     "metadata": {},
     "output_type": "execute_result"
    }
   ],
   "source": [
    "df0['url'][0]"
   ]
  },
  {
   "cell_type": "code",
   "execution_count": 29,
   "metadata": {},
   "outputs": [
    {
     "name": "stdout",
     "output_type": "stream",
     "text": [
      "1063\n"
     ]
    }
   ],
   "source": [
    "lenth=len(df0)\n",
    "print(lenth)\n",
    "\n",
    "for i in range(lenth):\n",
    "    # print(i)\n",
    "    try:\n",
    "        url2pdf(df0['url'][i],df0['title'][i],df0['time'][i])\n",
    "    except:\n",
    "        print('errorname',df0['title'][i]+df0['time'][i],i)\n"
   ]
  }
 ],
 "metadata": {
  "kernelspec": {
   "display_name": "Python 3.9.13 ('web')",
   "language": "python",
   "name": "python3"
  },
  "language_info": {
   "codemirror_mode": {
    "name": "ipython",
    "version": 3
   },
   "file_extension": ".py",
   "mimetype": "text/x-python",
   "name": "python",
   "nbconvert_exporter": "python",
   "pygments_lexer": "ipython3",
   "version": "3.9.13"
  },
  "orig_nbformat": 4,
  "vscode": {
   "interpreter": {
    "hash": "2e5ca456592696e8bc1bfac6455ab14407dd9953b05fd894023470c638ed15f7"
   }
  }
 },
 "nbformat": 4,
 "nbformat_minor": 2
}
